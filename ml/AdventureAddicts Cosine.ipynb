{
 "cells": [
  {
   "cell_type": "markdown",
   "id": "17a78b57",
   "metadata": {},
   "source": [
    "# Recommendation System"
   ]
  },
  {
   "cell_type": "code",
   "execution_count": 25,
   "id": "9a945eb7",
   "metadata": {},
   "outputs": [
    {
     "name": "stdout",
     "output_type": "stream",
     "text": [
      "Once deleted, variables cannot be recovered. Proceed (y/[n])? y\n"
     ]
    }
   ],
   "source": [
    "%reset"
   ]
  },
  {
   "cell_type": "code",
   "execution_count": 26,
   "id": "50f05332",
   "metadata": {},
   "outputs": [],
   "source": [
    "import pandas as pd\n",
    "import numpy as np\n",
    "import re\n",
    "from sklearn.neighbors import NearestNeighbors\n",
    "from scipy.sparse import csr_matrix"
   ]
  },
  {
   "cell_type": "code",
   "execution_count": 27,
   "id": "68d197c7",
   "metadata": {},
   "outputs": [],
   "source": [
    "post_data = pd.read_csv(r\"Data\\post_data.csv\")\n",
    "user_data = pd.read_csv(r\"Data\\user_data.csv\")\n",
    "view_data = pd.read_csv(r\"Data\\view_data.csv\")"
   ]
  },
  {
   "cell_type": "code",
   "execution_count": 28,
   "id": "c5435ae5",
   "metadata": {},
   "outputs": [
    {
     "data": {
      "text/html": [
       "<div>\n",
       "<style scoped>\n",
       "    .dataframe tbody tr th:only-of-type {\n",
       "        vertical-align: middle;\n",
       "    }\n",
       "\n",
       "    .dataframe tbody tr th {\n",
       "        vertical-align: top;\n",
       "    }\n",
       "\n",
       "    .dataframe thead th {\n",
       "        text-align: right;\n",
       "    }\n",
       "</style>\n",
       "<table border=\"1\" class=\"dataframe\">\n",
       "  <thead>\n",
       "    <tr style=\"text-align: right;\">\n",
       "      <th></th>\n",
       "      <th>user_id</th>\n",
       "      <th>post_id</th>\n",
       "      <th>time_stamp</th>\n",
       "      <th>NumLikes</th>\n",
       "    </tr>\n",
       "  </thead>\n",
       "  <tbody>\n",
       "    <tr>\n",
       "      <th>0</th>\n",
       "      <td>5eece14ffc13ae660900008b</td>\n",
       "      <td>136781766</td>\n",
       "      <td>01/01/2019 01:30 PM</td>\n",
       "      <td>3</td>\n",
       "    </tr>\n",
       "    <tr>\n",
       "      <th>1</th>\n",
       "      <td>5eece14efc13ae660900003c</td>\n",
       "      <td>43094523</td>\n",
       "      <td>01/01/2019 01:33 PM</td>\n",
       "      <td>1</td>\n",
       "    </tr>\n",
       "    <tr>\n",
       "      <th>2</th>\n",
       "      <td>5eece14efc13ae6609000025</td>\n",
       "      <td>42428071</td>\n",
       "      <td>01/01/2019 01:43 PM</td>\n",
       "      <td>6</td>\n",
       "    </tr>\n",
       "    <tr>\n",
       "      <th>3</th>\n",
       "      <td>5eece14ffc13ae66090001d4</td>\n",
       "      <td>76472880</td>\n",
       "      <td>01/01/2019 01:54 PM</td>\n",
       "      <td>2</td>\n",
       "    </tr>\n",
       "    <tr>\n",
       "      <th>4</th>\n",
       "      <td>5eece14ffc13ae66090000ac</td>\n",
       "      <td>202721843</td>\n",
       "      <td>01/01/2019 02:00 PM</td>\n",
       "      <td>10</td>\n",
       "    </tr>\n",
       "  </tbody>\n",
       "</table>\n",
       "</div>"
      ],
      "text/plain": [
       "                    user_id    post_id           time_stamp  NumLikes\n",
       "0  5eece14ffc13ae660900008b  136781766  01/01/2019 01:30 PM         3\n",
       "1  5eece14efc13ae660900003c   43094523  01/01/2019 01:33 PM         1\n",
       "2  5eece14efc13ae6609000025   42428071  01/01/2019 01:43 PM         6\n",
       "3  5eece14ffc13ae66090001d4   76472880  01/01/2019 01:54 PM         2\n",
       "4  5eece14ffc13ae66090000ac  202721843  01/01/2019 02:00 PM        10"
      ]
     },
     "metadata": {},
     "output_type": "display_data"
    },
    {
     "data": {
      "text/plain": [
       "(71800, 4)"
      ]
     },
     "metadata": {},
     "output_type": "display_data"
    }
   ],
   "source": [
    "temp_df = pd.DataFrame(view_data)\n",
    "# Make NumLikes for KNN\n",
    "temp_df[\"NumLikes\"] = np.random.randint(1, 11, len(temp_df))\n",
    "display(temp_df.head())\n",
    "display(temp_df.shape)"
   ]
  },
  {
   "cell_type": "code",
   "execution_count": 29,
   "id": "3682fcb5",
   "metadata": {},
   "outputs": [],
   "source": [
    "df = pd.merge(temp_df, post_data ,on='post_id')"
   ]
  },
  {
   "cell_type": "code",
   "execution_count": 30,
   "id": "2b6d6564",
   "metadata": {},
   "outputs": [
    {
     "data": {
      "text/plain": [
       "array(['banking', 'programming', 'drawing', 'politics', 'zoology', 'art',\n",
       "       'graphic', 'Music', 'Mathematics', 'photography', 'GST',\n",
       "       'political', 'business', 'dance', 'HR management',\n",
       "       'operating system', 'Craft', 'painting', 'Fashion Design',\n",
       "       'science'], dtype=object)"
      ]
     },
     "execution_count": 30,
     "metadata": {},
     "output_type": "execute_result"
    }
   ],
   "source": [
    "df.category.unique()"
   ]
  },
  {
   "cell_type": "code",
   "execution_count": 31,
   "id": "83cb3395",
   "metadata": {},
   "outputs": [],
   "source": [
    "# Create new more detailed post categories\n",
    "df['category'] = df['category'].replace({'banking':'Mystery,Educational,Cyberpunk',\n",
    "                                         'programming':'Fantasy,Magical-realism,Western',\n",
    "                                         'drawing':'Sci-fi,Steamy,Alternate-history',\n",
    "                                         'politics':'Romance,Young-adult,Adventure,Fantasy',\n",
    "                                         'zoology':'Kids,Western,Inspirational,Mystery',\n",
    "                                         'art':'Educational,Drama,Kids',\n",
    "                                         'graphic':'Inspirational,Romance,Magical-realism',\n",
    "                                         'Music':'Alternate-history,Adventure,Satire,Western',\n",
    "                                         'Mathematics':'Cyberpunk,Steamy,Satire,Drama',\n",
    "                                         'photography':'Magical realism,Adventure,Fantasy,Action',\n",
    "                                         'GST':'Historical Fiction,Young-adult,Realistic-fiction,Drama',\n",
    "                                         'political':'Realistic Fiction,Drama,Adventure,Satire',\n",
    "                                         'business':'Horror,Action,Mystery,Cyberpunk',\n",
    "                                         'dance':'Drama,Horror,Magical-realism',\n",
    "                                         'HR management':'Western,Sci-fi,Fantasy',\n",
    "                                         'operating system':'Action,Kids,Educational,Inspirational',\n",
    "                                         'Craft':'Adventure,Inspirational,Sci-fi,Mystery,Young-adult',\n",
    "                                         'painting':'Steamy,Alternate-history,Adventure',\n",
    "                                         'Fashion Design':'Young Adult,Educational,Romance',\n",
    "                                         'science':'Satire,Inspirational,Action,Fantasy'})"
   ]
  },
  {
   "cell_type": "code",
   "execution_count": 32,
   "id": "db9b2f00",
   "metadata": {},
   "outputs": [
    {
     "data": {
      "text/html": [
       "<div>\n",
       "<style scoped>\n",
       "    .dataframe tbody tr th:only-of-type {\n",
       "        vertical-align: middle;\n",
       "    }\n",
       "\n",
       "    .dataframe tbody tr th {\n",
       "        vertical-align: top;\n",
       "    }\n",
       "\n",
       "    .dataframe thead th {\n",
       "        text-align: right;\n",
       "    }\n",
       "</style>\n",
       "<table border=\"1\" class=\"dataframe\">\n",
       "  <thead>\n",
       "    <tr style=\"text-align: right;\">\n",
       "      <th></th>\n",
       "      <th>user_id</th>\n",
       "      <th>post_id</th>\n",
       "      <th>NumLikes</th>\n",
       "      <th>title</th>\n",
       "      <th>category</th>\n",
       "    </tr>\n",
       "  </thead>\n",
       "  <tbody>\n",
       "    <tr>\n",
       "      <th>0</th>\n",
       "      <td>5eece14ffc13ae660900008b</td>\n",
       "      <td>136781766</td>\n",
       "      <td>3</td>\n",
       "      <td>Sexy BANKING</td>\n",
       "      <td>Mystery,Educational,Cyberpunk</td>\n",
       "    </tr>\n",
       "    <tr>\n",
       "      <th>1</th>\n",
       "      <td>5eece14ffc13ae66090001da</td>\n",
       "      <td>136781766</td>\n",
       "      <td>7</td>\n",
       "      <td>Sexy BANKING</td>\n",
       "      <td>Mystery,Educational,Cyberpunk</td>\n",
       "    </tr>\n",
       "    <tr>\n",
       "      <th>2</th>\n",
       "      <td>5eece14efc13ae660900003a</td>\n",
       "      <td>136781766</td>\n",
       "      <td>8</td>\n",
       "      <td>Sexy BANKING</td>\n",
       "      <td>Mystery,Educational,Cyberpunk</td>\n",
       "    </tr>\n",
       "    <tr>\n",
       "      <th>3</th>\n",
       "      <td>5eece14ffc13ae6609000131</td>\n",
       "      <td>136781766</td>\n",
       "      <td>2</td>\n",
       "      <td>Sexy BANKING</td>\n",
       "      <td>Mystery,Educational,Cyberpunk</td>\n",
       "    </tr>\n",
       "    <tr>\n",
       "      <th>4</th>\n",
       "      <td>5eece14ffc13ae6609000167</td>\n",
       "      <td>136781766</td>\n",
       "      <td>10</td>\n",
       "      <td>Sexy BANKING</td>\n",
       "      <td>Mystery,Educational,Cyberpunk</td>\n",
       "    </tr>\n",
       "  </tbody>\n",
       "</table>\n",
       "</div>"
      ],
      "text/plain": [
       "                    user_id    post_id  NumLikes          title  \\\n",
       "0  5eece14ffc13ae660900008b  136781766         3   Sexy BANKING   \n",
       "1  5eece14ffc13ae66090001da  136781766         7   Sexy BANKING   \n",
       "2  5eece14efc13ae660900003a  136781766         8   Sexy BANKING   \n",
       "3  5eece14ffc13ae6609000131  136781766         2   Sexy BANKING   \n",
       "4  5eece14ffc13ae6609000167  136781766        10   Sexy BANKING   \n",
       "\n",
       "                        category  \n",
       "0  Mystery,Educational,Cyberpunk  \n",
       "1  Mystery,Educational,Cyberpunk  \n",
       "2  Mystery,Educational,Cyberpunk  \n",
       "3  Mystery,Educational,Cyberpunk  \n",
       "4  Mystery,Educational,Cyberpunk  "
      ]
     },
     "metadata": {},
     "output_type": "display_data"
    },
    {
     "data": {
      "text/plain": [
       "(71800, 5)"
      ]
     },
     "metadata": {},
     "output_type": "display_data"
    }
   ],
   "source": [
    "# timestamp not needed\n",
    "data = df.drop(['time_stamp'], axis=1)\n",
    "# drop duplicate tites to make the df managable \n",
    "#data = data.drop_duplicates(['title'])\n",
    "display(data.head())\n",
    "display(data.shape)"
   ]
  },
  {
   "cell_type": "code",
   "execution_count": 35,
   "id": "8d0bd55f",
   "metadata": {},
   "outputs": [
    {
     "data": {
      "text/html": [
       "<div>\n",
       "<style scoped>\n",
       "    .dataframe tbody tr th:only-of-type {\n",
       "        vertical-align: middle;\n",
       "    }\n",
       "\n",
       "    .dataframe tbody tr th {\n",
       "        vertical-align: top;\n",
       "    }\n",
       "\n",
       "    .dataframe thead th {\n",
       "        text-align: right;\n",
       "    }\n",
       "</style>\n",
       "<table border=\"1\" class=\"dataframe\">\n",
       "  <thead>\n",
       "    <tr style=\"text-align: right;\">\n",
       "      <th></th>\n",
       "      <th>title</th>\n",
       "      <th>TotalValue</th>\n",
       "    </tr>\n",
       "  </thead>\n",
       "  <tbody>\n",
       "    <tr>\n",
       "      <th>0</th>\n",
       "      <td>10 Funny ART Quotes</td>\n",
       "      <td>15</td>\n",
       "    </tr>\n",
       "    <tr>\n",
       "      <th>1</th>\n",
       "      <td>10 Funny BANKING Quotes</td>\n",
       "      <td>10</td>\n",
       "    </tr>\n",
       "    <tr>\n",
       "      <th>2</th>\n",
       "      <td>10 Funny BUSINESS Quotes</td>\n",
       "      <td>13</td>\n",
       "    </tr>\n",
       "    <tr>\n",
       "      <th>3</th>\n",
       "      <td>10 Funny CRAFT Quotes</td>\n",
       "      <td>9</td>\n",
       "    </tr>\n",
       "    <tr>\n",
       "      <th>4</th>\n",
       "      <td>10 Funny DANCE Quotes</td>\n",
       "      <td>19</td>\n",
       "    </tr>\n",
       "  </tbody>\n",
       "</table>\n",
       "</div>"
      ],
      "text/plain": [
       "                       title  TotalValue\n",
       "0        10 Funny ART Quotes          15\n",
       "1    10 Funny BANKING Quotes          10\n",
       "2   10 Funny BUSINESS Quotes          13\n",
       "3      10 Funny CRAFT Quotes           9\n",
       "4      10 Funny DANCE Quotes          19"
      ]
     },
     "execution_count": 35,
     "metadata": {},
     "output_type": "execute_result"
    }
   ],
   "source": [
    "combine_post_rating = data.dropna(axis = 0, subset = ['title'])\n",
    "\n",
    "post_ratingCount = (combine_post_rating.\n",
    "     groupby(by = ['title'])['NumLikes'].\n",
    "     count().\n",
    "     reset_index().\n",
    "     rename(columns = {'NumLikes': 'TotalValue'})\n",
    "     [['title', 'TotalValue']]\n",
    "    )\n",
    "post_ratingCount.head()"
   ]
  },
  {
   "cell_type": "code",
   "execution_count": 36,
   "id": "55a23d23",
   "metadata": {},
   "outputs": [
    {
     "data": {
      "text/html": [
       "<div>\n",
       "<style scoped>\n",
       "    .dataframe tbody tr th:only-of-type {\n",
       "        vertical-align: middle;\n",
       "    }\n",
       "\n",
       "    .dataframe tbody tr th {\n",
       "        vertical-align: top;\n",
       "    }\n",
       "\n",
       "    .dataframe thead th {\n",
       "        text-align: right;\n",
       "    }\n",
       "</style>\n",
       "<table border=\"1\" class=\"dataframe\">\n",
       "  <thead>\n",
       "    <tr style=\"text-align: right;\">\n",
       "      <th></th>\n",
       "      <th>user_id</th>\n",
       "      <th>post_id</th>\n",
       "      <th>NumLikes</th>\n",
       "      <th>title</th>\n",
       "      <th>category</th>\n",
       "      <th>TotalValue</th>\n",
       "    </tr>\n",
       "  </thead>\n",
       "  <tbody>\n",
       "    <tr>\n",
       "      <th>0</th>\n",
       "      <td>5eece14ffc13ae660900008b</td>\n",
       "      <td>136781766</td>\n",
       "      <td>3</td>\n",
       "      <td>Sexy BANKING</td>\n",
       "      <td>Mystery,Educational,Cyberpunk</td>\n",
       "      <td>18</td>\n",
       "    </tr>\n",
       "    <tr>\n",
       "      <th>1</th>\n",
       "      <td>5eece14ffc13ae66090001da</td>\n",
       "      <td>136781766</td>\n",
       "      <td>7</td>\n",
       "      <td>Sexy BANKING</td>\n",
       "      <td>Mystery,Educational,Cyberpunk</td>\n",
       "      <td>18</td>\n",
       "    </tr>\n",
       "    <tr>\n",
       "      <th>2</th>\n",
       "      <td>5eece14efc13ae660900003a</td>\n",
       "      <td>136781766</td>\n",
       "      <td>8</td>\n",
       "      <td>Sexy BANKING</td>\n",
       "      <td>Mystery,Educational,Cyberpunk</td>\n",
       "      <td>18</td>\n",
       "    </tr>\n",
       "    <tr>\n",
       "      <th>3</th>\n",
       "      <td>5eece14ffc13ae6609000131</td>\n",
       "      <td>136781766</td>\n",
       "      <td>2</td>\n",
       "      <td>Sexy BANKING</td>\n",
       "      <td>Mystery,Educational,Cyberpunk</td>\n",
       "      <td>18</td>\n",
       "    </tr>\n",
       "    <tr>\n",
       "      <th>4</th>\n",
       "      <td>5eece14ffc13ae6609000167</td>\n",
       "      <td>136781766</td>\n",
       "      <td>10</td>\n",
       "      <td>Sexy BANKING</td>\n",
       "      <td>Mystery,Educational,Cyberpunk</td>\n",
       "      <td>18</td>\n",
       "    </tr>\n",
       "  </tbody>\n",
       "</table>\n",
       "</div>"
      ],
      "text/plain": [
       "                    user_id    post_id  NumLikes          title  \\\n",
       "0  5eece14ffc13ae660900008b  136781766         3   Sexy BANKING   \n",
       "1  5eece14ffc13ae66090001da  136781766         7   Sexy BANKING   \n",
       "2  5eece14efc13ae660900003a  136781766         8   Sexy BANKING   \n",
       "3  5eece14ffc13ae6609000131  136781766         2   Sexy BANKING   \n",
       "4  5eece14ffc13ae6609000167  136781766        10   Sexy BANKING   \n",
       "\n",
       "                        category  TotalValue  \n",
       "0  Mystery,Educational,Cyberpunk          18  \n",
       "1  Mystery,Educational,Cyberpunk          18  \n",
       "2  Mystery,Educational,Cyberpunk          18  \n",
       "3  Mystery,Educational,Cyberpunk          18  \n",
       "4  Mystery,Educational,Cyberpunk          18  "
      ]
     },
     "execution_count": 36,
     "metadata": {},
     "output_type": "execute_result"
    }
   ],
   "source": [
    "rating_with_TotalValue = combine_post_rating.merge(post_ratingCount, left_on = 'title', right_on = 'title', how = 'left')\n",
    "rating_with_TotalValue.head()"
   ]
  },
  {
   "cell_type": "code",
   "execution_count": 37,
   "id": "016ccb9c",
   "metadata": {},
   "outputs": [
    {
     "data": {
      "text/html": [
       "<div>\n",
       "<style scoped>\n",
       "    .dataframe tbody tr th:only-of-type {\n",
       "        vertical-align: middle;\n",
       "    }\n",
       "\n",
       "    .dataframe tbody tr th {\n",
       "        vertical-align: top;\n",
       "    }\n",
       "\n",
       "    .dataframe thead th {\n",
       "        text-align: right;\n",
       "    }\n",
       "</style>\n",
       "<table border=\"1\" class=\"dataframe\">\n",
       "  <thead>\n",
       "    <tr style=\"text-align: right;\">\n",
       "      <th></th>\n",
       "      <th>user_id</th>\n",
       "      <th>post_id</th>\n",
       "      <th>NumLikes</th>\n",
       "      <th>title</th>\n",
       "      <th>category</th>\n",
       "      <th>TotalValue</th>\n",
       "    </tr>\n",
       "  </thead>\n",
       "  <tbody>\n",
       "    <tr>\n",
       "      <th>71697</th>\n",
       "      <td>5eece14ffc13ae66090001bb</td>\n",
       "      <td>36975738</td>\n",
       "      <td>2</td>\n",
       "      <td>I Don't Want To Spend This Much Time On MUSIC...</td>\n",
       "      <td>Alternate-history,Adventure,Satire,Western</td>\n",
       "      <td>13</td>\n",
       "    </tr>\n",
       "    <tr>\n",
       "      <th>71698</th>\n",
       "      <td>5eece14ffc13ae660900012d</td>\n",
       "      <td>36975738</td>\n",
       "      <td>7</td>\n",
       "      <td>I Don't Want To Spend This Much Time On MUSIC...</td>\n",
       "      <td>Alternate-history,Adventure,Satire,Western</td>\n",
       "      <td>13</td>\n",
       "    </tr>\n",
       "    <tr>\n",
       "      <th>71699</th>\n",
       "      <td>5eece14efc13ae660900006c</td>\n",
       "      <td>36975738</td>\n",
       "      <td>4</td>\n",
       "      <td>I Don't Want To Spend This Much Time On MUSIC...</td>\n",
       "      <td>Alternate-history,Adventure,Satire,Western</td>\n",
       "      <td>13</td>\n",
       "    </tr>\n",
       "    <tr>\n",
       "      <th>71700</th>\n",
       "      <td>5eece14ffc13ae660900007e</td>\n",
       "      <td>36975738</td>\n",
       "      <td>4</td>\n",
       "      <td>I Don't Want To Spend This Much Time On MUSIC...</td>\n",
       "      <td>Alternate-history,Adventure,Satire,Western</td>\n",
       "      <td>13</td>\n",
       "    </tr>\n",
       "    <tr>\n",
       "      <th>71701</th>\n",
       "      <td>5eece14efc13ae6609000048</td>\n",
       "      <td>36975738</td>\n",
       "      <td>7</td>\n",
       "      <td>I Don't Want To Spend This Much Time On MUSIC...</td>\n",
       "      <td>Alternate-history,Adventure,Satire,Western</td>\n",
       "      <td>13</td>\n",
       "    </tr>\n",
       "  </tbody>\n",
       "</table>\n",
       "</div>"
      ],
      "text/plain": [
       "                        user_id   post_id  NumLikes  \\\n",
       "71697  5eece14ffc13ae66090001bb  36975738         2   \n",
       "71698  5eece14ffc13ae660900012d  36975738         7   \n",
       "71699  5eece14efc13ae660900006c  36975738         4   \n",
       "71700  5eece14ffc13ae660900007e  36975738         4   \n",
       "71701  5eece14efc13ae6609000048  36975738         7   \n",
       "\n",
       "                                                   title  \\\n",
       "71697   I Don't Want To Spend This Much Time On MUSIC...   \n",
       "71698   I Don't Want To Spend This Much Time On MUSIC...   \n",
       "71699   I Don't Want To Spend This Much Time On MUSIC...   \n",
       "71700   I Don't Want To Spend This Much Time On MUSIC...   \n",
       "71701   I Don't Want To Spend This Much Time On MUSIC...   \n",
       "\n",
       "                                         category  TotalValue  \n",
       "71697  Alternate-history,Adventure,Satire,Western          13  \n",
       "71698  Alternate-history,Adventure,Satire,Western          13  \n",
       "71699  Alternate-history,Adventure,Satire,Western          13  \n",
       "71700  Alternate-history,Adventure,Satire,Western          13  \n",
       "71701  Alternate-history,Adventure,Satire,Western          13  "
      ]
     },
     "metadata": {},
     "output_type": "display_data"
    },
    {
     "data": {
      "text/plain": [
       "(38292, 6)"
      ]
     },
     "metadata": {},
     "output_type": "display_data"
    }
   ],
   "source": [
    "popularity_threshold = 13\n",
    "rating_popular_post = rating_with_TotalValue.query('TotalValue >= @popularity_threshold')\n",
    "display(rating_popular_post.tail())\n",
    "display(rating_popular_post.shape)"
   ]
  },
  {
   "cell_type": "code",
   "execution_count": 38,
   "id": "13e3b681",
   "metadata": {},
   "outputs": [
    {
     "data": {
      "text/plain": [
       "NearestNeighbors(algorithm='brute', metric='cosine')"
      ]
     },
     "execution_count": 38,
     "metadata": {},
     "output_type": "execute_result"
    }
   ],
   "source": [
    "rating_popular_post = rating_popular_post.drop_duplicates(['user_id', 'title'])\n",
    "rating_popular_post_pivot = rating_popular_post.pivot(index = 'title', columns = 'user_id', values = 'NumLikes').fillna(0)\n",
    "rating_popular_post_matrix = csr_matrix(rating_popular_post_pivot.values)\n",
    "\n",
    "model_knn = NearestNeighbors(metric = 'cosine', algorithm = 'brute')\n",
    "model_knn.fit(rating_popular_post_matrix)"
   ]
  },
  {
   "cell_type": "code",
   "execution_count": 45,
   "id": "06e97823",
   "metadata": {},
   "outputs": [],
   "source": [
    "from sklearn.metrics.pairwise import linear_kernel, cosine_similarity\n",
    "cosine_sim = cosine_similarity(rating_popular_post_matrix, rating_popular_post_matrix)\n",
    "np.save(\"cosine_sim_NumLikes.npy\", cosine_sim)"
   ]
  },
  {
   "cell_type": "markdown",
   "id": "96813dcd",
   "metadata": {},
   "source": [
    "# Test"
   ]
  },
  {
   "cell_type": "code",
   "execution_count": 47,
   "id": "ce637778",
   "metadata": {},
   "outputs": [
    {
     "name": "stdout",
     "output_type": "stream",
     "text": [
      "449\n"
     ]
    }
   ],
   "source": [
    "query_index = np.random.choice(rating_popular_post_pivot.shape[0])\n",
    "print(query_index)\n",
    "distances, indices = model_knn.kneighbors(rating_popular_post_pivot.iloc[query_index,:].values.reshape(1, -1), n_neighbors = 6)"
   ]
  },
  {
   "cell_type": "code",
   "execution_count": 48,
   "id": "21b601c9",
   "metadata": {},
   "outputs": [
    {
     "data": {
      "text/plain": [
       "' Apply These 5 Secret Techniques To Improve HR MANAGEMENT'"
      ]
     },
     "execution_count": 48,
     "metadata": {},
     "output_type": "execute_result"
    }
   ],
   "source": [
    "rating_popular_post_pivot.index[query_index]"
   ]
  },
  {
   "cell_type": "code",
   "execution_count": 49,
   "id": "809033c8",
   "metadata": {},
   "outputs": [
    {
     "name": "stdout",
     "output_type": "stream",
     "text": [
      "Recommendations for  Apply These 5 Secret Techniques To Improve HR MANAGEMENT:\n",
      "\n",
      "1:  3 BANKING Secrets You Never Knew, with distance of 0.6747907629434624:\n",
      "2:  7 Ways To Keep Your DRAWING Growing Without Burning The Midnight Oil, with distance of 0.6756804703909008:\n",
      "3:  Clear And Unbiased Facts About ART (Without All the Hype), with distance of 0.7066264206167643:\n",
      "4:  3 POLITICAL Secrets You Never Knew, with distance of 0.7246659923735521:\n",
      "5:  5 Best Ways To Sell BANKING, with distance of 0.7321433159062913:\n"
     ]
    }
   ],
   "source": [
    "for i in range(0, len(distances.flatten())):\n",
    "    if i == 0:\n",
    "        print('Recommendations for {0}:\\n'.format(rating_popular_post_pivot.index[query_index]))\n",
    "    else:\n",
    "        print('{0}: {1}, with distance of {2}:'.format(i, rating_popular_post_pivot.index[indices.flatten()[i]], distances.flatten()[i]))"
   ]
  },
  {
   "cell_type": "code",
   "execution_count": null,
   "id": "4cab7804",
   "metadata": {},
   "outputs": [],
   "source": []
  }
 ],
 "metadata": {
  "kernelspec": {
   "display_name": "Python 3",
   "language": "python",
   "name": "python3"
  },
  "language_info": {
   "codemirror_mode": {
    "name": "ipython",
    "version": 3
   },
   "file_extension": ".py",
   "mimetype": "text/x-python",
   "name": "python",
   "nbconvert_exporter": "python",
   "pygments_lexer": "ipython3",
   "version": "3.8.8"
  }
 },
 "nbformat": 4,
 "nbformat_minor": 5
}

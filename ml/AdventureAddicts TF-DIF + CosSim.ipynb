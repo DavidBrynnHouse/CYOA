{
 "cells": [
  {
   "cell_type": "markdown",
   "id": "55ba5f88",
   "metadata": {},
   "source": [
    "# Recommendation System"
   ]
  },
  {
   "cell_type": "code",
   "execution_count": 212,
   "id": "06d2f222",
   "metadata": {},
   "outputs": [
    {
     "name": "stdout",
     "output_type": "stream",
     "text": [
      "Once deleted, variables cannot be recovered. Proceed (y/[n])? y\n"
     ]
    }
   ],
   "source": [
    "%reset"
   ]
  },
  {
   "cell_type": "code",
   "execution_count": 2,
   "id": "352315f9",
   "metadata": {},
   "outputs": [],
   "source": [
    "# import libraries\n",
    "import pandas as pd\n",
    "import numpy as np\n",
    "import re\n",
    "from sklearn.neighbors import NearestNeighbors\n",
    "from scipy.sparse import csr_matrix\n",
    "\n",
    "import spacy\n",
    "from spacy.tokenizer import Tokenizer\n",
    "from spacy.lang.en import English\n",
    "\n",
    "from sklearn.feature_extraction.text import TfidfVectorizer\n",
    "from sklearn.neighbors import NearestNeighbors\n",
    "import pickle\n",
    "from sklearn.utils import shuffle\n",
    "\n",
    "from sklearn.metrics.pairwise import linear_kernel, cosine_similarity"
   ]
  },
  {
   "cell_type": "code",
   "execution_count": 3,
   "id": "f4d40d4b",
   "metadata": {},
   "outputs": [],
   "source": [
    "# Create a blank Tokenizer with just English\n",
    "nlp=English()\n",
    "tokenizer = Tokenizer(nlp.vocab)"
   ]
  },
  {
   "cell_type": "code",
   "execution_count": 4,
   "id": "61f8461e",
   "metadata": {},
   "outputs": [],
   "source": [
    "# Import data\n",
    "post_data = pd.read_csv(r\"Data\\post_data.csv\")\n",
    "user_data = pd.read_csv(r\"Data\\user_data.csv\")\n",
    "view_data = pd.read_csv(r\"Data\\view_data.csv\")"
   ]
  },
  {
   "cell_type": "code",
   "execution_count": 5,
   "id": "42f5c761",
   "metadata": {},
   "outputs": [
    {
     "data": {
      "text/html": [
       "<div>\n",
       "<style scoped>\n",
       "    .dataframe tbody tr th:only-of-type {\n",
       "        vertical-align: middle;\n",
       "    }\n",
       "\n",
       "    .dataframe tbody tr th {\n",
       "        vertical-align: top;\n",
       "    }\n",
       "\n",
       "    .dataframe thead th {\n",
       "        text-align: right;\n",
       "    }\n",
       "</style>\n",
       "<table border=\"1\" class=\"dataframe\">\n",
       "  <thead>\n",
       "    <tr style=\"text-align: right;\">\n",
       "      <th></th>\n",
       "      <th>user_id</th>\n",
       "      <th>post_id</th>\n",
       "      <th>time_stamp</th>\n",
       "      <th>NumLikes</th>\n",
       "    </tr>\n",
       "  </thead>\n",
       "  <tbody>\n",
       "    <tr>\n",
       "      <th>0</th>\n",
       "      <td>5eece14ffc13ae660900008b</td>\n",
       "      <td>136781766</td>\n",
       "      <td>01/01/2019 01:30 PM</td>\n",
       "      <td>8</td>\n",
       "    </tr>\n",
       "    <tr>\n",
       "      <th>1</th>\n",
       "      <td>5eece14efc13ae660900003c</td>\n",
       "      <td>43094523</td>\n",
       "      <td>01/01/2019 01:33 PM</td>\n",
       "      <td>10</td>\n",
       "    </tr>\n",
       "    <tr>\n",
       "      <th>2</th>\n",
       "      <td>5eece14efc13ae6609000025</td>\n",
       "      <td>42428071</td>\n",
       "      <td>01/01/2019 01:43 PM</td>\n",
       "      <td>4</td>\n",
       "    </tr>\n",
       "    <tr>\n",
       "      <th>3</th>\n",
       "      <td>5eece14ffc13ae66090001d4</td>\n",
       "      <td>76472880</td>\n",
       "      <td>01/01/2019 01:54 PM</td>\n",
       "      <td>1</td>\n",
       "    </tr>\n",
       "    <tr>\n",
       "      <th>4</th>\n",
       "      <td>5eece14ffc13ae66090000ac</td>\n",
       "      <td>202721843</td>\n",
       "      <td>01/01/2019 02:00 PM</td>\n",
       "      <td>8</td>\n",
       "    </tr>\n",
       "  </tbody>\n",
       "</table>\n",
       "</div>"
      ],
      "text/plain": [
       "                    user_id    post_id           time_stamp  NumLikes\n",
       "0  5eece14ffc13ae660900008b  136781766  01/01/2019 01:30 PM         8\n",
       "1  5eece14efc13ae660900003c   43094523  01/01/2019 01:33 PM        10\n",
       "2  5eece14efc13ae6609000025   42428071  01/01/2019 01:43 PM         4\n",
       "3  5eece14ffc13ae66090001d4   76472880  01/01/2019 01:54 PM         1\n",
       "4  5eece14ffc13ae66090000ac  202721843  01/01/2019 02:00 PM         8"
      ]
     },
     "metadata": {},
     "output_type": "display_data"
    },
    {
     "data": {
      "text/plain": [
       "(71800, 4)"
      ]
     },
     "metadata": {},
     "output_type": "display_data"
    }
   ],
   "source": [
    "temp_df = pd.DataFrame(view_data)\n",
    "# Make NumLikes for KNN\n",
    "temp_df[\"NumLikes\"] = np.random.randint(1, 11, len(temp_df))\n",
    "display(temp_df.head())\n",
    "display(temp_df.shape)"
   ]
  },
  {
   "cell_type": "code",
   "execution_count": 6,
   "id": "73cb4716",
   "metadata": {},
   "outputs": [],
   "source": [
    "df = pd.merge(temp_df, post_data ,on='post_id')"
   ]
  },
  {
   "cell_type": "code",
   "execution_count": 7,
   "id": "e4bb7fdb",
   "metadata": {},
   "outputs": [],
   "source": [
    "# Create new more detailed post categories\n",
    "df['category'] = df['category'].replace({'banking':'Mystery,Educational,Cyberpunk',\n",
    "                                         'programming':'Fantasy,Magical-realism,Western',\n",
    "                                         'drawing':'Sci-fi,Steamy,Alternate-history',\n",
    "                                         'politics':'Romance,Young-adult,Adventure,Fantasy',\n",
    "                                         'zoology':'Kids,Western,Inspirational,Mystery',\n",
    "                                         'art':'Educational,Drama,Kids',\n",
    "                                         'graphic':'Inspirational,Romance,Magical-realism',\n",
    "                                         'Music':'Alternate-history,Adventure,Satire,Western',\n",
    "                                         'Mathematics':'Cyberpunk,Steamy,Satire,Drama',\n",
    "                                         'photography':'Magical realism,Adventure,Fantasy,Action',\n",
    "                                         'GST':'Historical Fiction,Young-adult,Realistic-fiction,Drama',\n",
    "                                         'political':'Realistic Fiction,Drama,Adventure,Satire',\n",
    "                                         'business':'Horror,Action,Mystery,Cyberpunk',\n",
    "                                         'dance':'Drama,Horror,Magical-realism',\n",
    "                                         'HR management':'Western,Sci-fi,Fantasy',\n",
    "                                         'operating system':'Action,Kids,Educational,Inspirational',\n",
    "                                         'Craft':'Adventure,Inspirational,Sci-fi,Mystery,Young-adult',\n",
    "                                         'painting':'Steamy,Alternate-history,Adventure',\n",
    "                                         'Fashion Design':'Young Adult,Educational,Romance',\n",
    "                                         'science':'Satire,Inspirational,Action,Fantasy'})"
   ]
  },
  {
   "cell_type": "code",
   "execution_count": 8,
   "id": "6d0334c3",
   "metadata": {},
   "outputs": [
    {
     "data": {
      "text/html": [
       "<div>\n",
       "<style scoped>\n",
       "    .dataframe tbody tr th:only-of-type {\n",
       "        vertical-align: middle;\n",
       "    }\n",
       "\n",
       "    .dataframe tbody tr th {\n",
       "        vertical-align: top;\n",
       "    }\n",
       "\n",
       "    .dataframe thead th {\n",
       "        text-align: right;\n",
       "    }\n",
       "</style>\n",
       "<table border=\"1\" class=\"dataframe\">\n",
       "  <thead>\n",
       "    <tr style=\"text-align: right;\">\n",
       "      <th></th>\n",
       "      <th>user_id</th>\n",
       "      <th>post_id</th>\n",
       "      <th>NumLikes</th>\n",
       "      <th>title</th>\n",
       "      <th>category</th>\n",
       "    </tr>\n",
       "  </thead>\n",
       "  <tbody>\n",
       "    <tr>\n",
       "      <th>0</th>\n",
       "      <td>5eece14ffc13ae660900008b</td>\n",
       "      <td>136781766</td>\n",
       "      <td>8</td>\n",
       "      <td>Sexy BANKING</td>\n",
       "      <td>Mystery,Educational,Cyberpunk</td>\n",
       "    </tr>\n",
       "    <tr>\n",
       "      <th>1</th>\n",
       "      <td>5eece14ffc13ae66090001da</td>\n",
       "      <td>136781766</td>\n",
       "      <td>5</td>\n",
       "      <td>Sexy BANKING</td>\n",
       "      <td>Mystery,Educational,Cyberpunk</td>\n",
       "    </tr>\n",
       "    <tr>\n",
       "      <th>2</th>\n",
       "      <td>5eece14efc13ae660900003a</td>\n",
       "      <td>136781766</td>\n",
       "      <td>9</td>\n",
       "      <td>Sexy BANKING</td>\n",
       "      <td>Mystery,Educational,Cyberpunk</td>\n",
       "    </tr>\n",
       "    <tr>\n",
       "      <th>3</th>\n",
       "      <td>5eece14ffc13ae6609000131</td>\n",
       "      <td>136781766</td>\n",
       "      <td>3</td>\n",
       "      <td>Sexy BANKING</td>\n",
       "      <td>Mystery,Educational,Cyberpunk</td>\n",
       "    </tr>\n",
       "    <tr>\n",
       "      <th>4</th>\n",
       "      <td>5eece14ffc13ae6609000167</td>\n",
       "      <td>136781766</td>\n",
       "      <td>2</td>\n",
       "      <td>Sexy BANKING</td>\n",
       "      <td>Mystery,Educational,Cyberpunk</td>\n",
       "    </tr>\n",
       "  </tbody>\n",
       "</table>\n",
       "</div>"
      ],
      "text/plain": [
       "                    user_id    post_id  NumLikes          title  \\\n",
       "0  5eece14ffc13ae660900008b  136781766         8   Sexy BANKING   \n",
       "1  5eece14ffc13ae66090001da  136781766         5   Sexy BANKING   \n",
       "2  5eece14efc13ae660900003a  136781766         9   Sexy BANKING   \n",
       "3  5eece14ffc13ae6609000131  136781766         3   Sexy BANKING   \n",
       "4  5eece14ffc13ae6609000167  136781766         2   Sexy BANKING   \n",
       "\n",
       "                        category  \n",
       "0  Mystery,Educational,Cyberpunk  \n",
       "1  Mystery,Educational,Cyberpunk  \n",
       "2  Mystery,Educational,Cyberpunk  \n",
       "3  Mystery,Educational,Cyberpunk  \n",
       "4  Mystery,Educational,Cyberpunk  "
      ]
     },
     "metadata": {},
     "output_type": "display_data"
    },
    {
     "data": {
      "text/plain": [
       "(71800, 5)"
      ]
     },
     "metadata": {},
     "output_type": "display_data"
    },
    {
     "data": {
      "text/html": [
       "<div>\n",
       "<style scoped>\n",
       "    .dataframe tbody tr th:only-of-type {\n",
       "        vertical-align: middle;\n",
       "    }\n",
       "\n",
       "    .dataframe tbody tr th {\n",
       "        vertical-align: top;\n",
       "    }\n",
       "\n",
       "    .dataframe thead th {\n",
       "        text-align: right;\n",
       "    }\n",
       "</style>\n",
       "<table border=\"1\" class=\"dataframe\">\n",
       "  <thead>\n",
       "    <tr style=\"text-align: right;\">\n",
       "      <th></th>\n",
       "      <th>user_id</th>\n",
       "      <th>post_id</th>\n",
       "      <th>NumLikes</th>\n",
       "      <th>title</th>\n",
       "      <th>category</th>\n",
       "    </tr>\n",
       "  </thead>\n",
       "  <tbody>\n",
       "    <tr>\n",
       "      <th>0</th>\n",
       "      <td>5eece14ffc13ae660900008b</td>\n",
       "      <td>136781766</td>\n",
       "      <td>8</td>\n",
       "      <td>Sexy BANKING</td>\n",
       "      <td>Mystery,Educational,Cyberpunk</td>\n",
       "    </tr>\n",
       "    <tr>\n",
       "      <th>18</th>\n",
       "      <td>5eece14efc13ae660900003c</td>\n",
       "      <td>43094523</td>\n",
       "      <td>10</td>\n",
       "      <td>10 Ways To Immediately Start Selling PROGRAMMING</td>\n",
       "      <td>Fantasy,Magical-realism,Western</td>\n",
       "    </tr>\n",
       "    <tr>\n",
       "      <th>37</th>\n",
       "      <td>5eece14efc13ae6609000025</td>\n",
       "      <td>42428071</td>\n",
       "      <td>4</td>\n",
       "      <td>DRAWING Adventures</td>\n",
       "      <td>Sci-fi,Steamy,Alternate-history</td>\n",
       "    </tr>\n",
       "    <tr>\n",
       "      <th>53</th>\n",
       "      <td>5eece14ffc13ae66090001d4</td>\n",
       "      <td>76472880</td>\n",
       "      <td>1</td>\n",
       "      <td>The Ultimate Guide To POLITICS</td>\n",
       "      <td>Romance,Young-adult,Adventure,Fantasy</td>\n",
       "    </tr>\n",
       "    <tr>\n",
       "      <th>67</th>\n",
       "      <td>5eece14ffc13ae66090000ac</td>\n",
       "      <td>202721843</td>\n",
       "      <td>8</td>\n",
       "      <td>ZOOLOGY And Love Have 4 Things In Common</td>\n",
       "      <td>Kids,Western,Inspirational,Mystery</td>\n",
       "    </tr>\n",
       "  </tbody>\n",
       "</table>\n",
       "</div>"
      ],
      "text/plain": [
       "                     user_id    post_id  NumLikes  \\\n",
       "0   5eece14ffc13ae660900008b  136781766         8   \n",
       "18  5eece14efc13ae660900003c   43094523        10   \n",
       "37  5eece14efc13ae6609000025   42428071         4   \n",
       "53  5eece14ffc13ae66090001d4   76472880         1   \n",
       "67  5eece14ffc13ae66090000ac  202721843         8   \n",
       "\n",
       "                                                title  \\\n",
       "0                                        Sexy BANKING   \n",
       "18   10 Ways To Immediately Start Selling PROGRAMMING   \n",
       "37                                 DRAWING Adventures   \n",
       "53                     The Ultimate Guide To POLITICS   \n",
       "67           ZOOLOGY And Love Have 4 Things In Common   \n",
       "\n",
       "                                 category  \n",
       "0           Mystery,Educational,Cyberpunk  \n",
       "18        Fantasy,Magical-realism,Western  \n",
       "37        Sci-fi,Steamy,Alternate-history  \n",
       "53  Romance,Young-adult,Adventure,Fantasy  \n",
       "67     Kids,Western,Inspirational,Mystery  "
      ]
     },
     "metadata": {},
     "output_type": "display_data"
    },
    {
     "data": {
      "text/plain": [
       "(6000, 5)"
      ]
     },
     "metadata": {},
     "output_type": "display_data"
    }
   ],
   "source": [
    "# timestamp not needed\n",
    "data = df.drop(['time_stamp'], axis=1)\n",
    "# drop duplicate tites to make the df managable \n",
    "data_tfdif = data.drop_duplicates(['title'])\n",
    "display(data.head())\n",
    "display(data.shape)\n",
    "display(data_tfdif.head())\n",
    "display(data_tfdif.shape)"
   ]
  },
  {
   "cell_type": "code",
   "execution_count": 9,
   "id": "24d95931",
   "metadata": {},
   "outputs": [
    {
     "data": {
      "text/html": [
       "<div>\n",
       "<style scoped>\n",
       "    .dataframe tbody tr th:only-of-type {\n",
       "        vertical-align: middle;\n",
       "    }\n",
       "\n",
       "    .dataframe tbody tr th {\n",
       "        vertical-align: top;\n",
       "    }\n",
       "\n",
       "    .dataframe thead th {\n",
       "        text-align: right;\n",
       "    }\n",
       "</style>\n",
       "<table border=\"1\" class=\"dataframe\">\n",
       "  <thead>\n",
       "    <tr style=\"text-align: right;\">\n",
       "      <th></th>\n",
       "      <th>title</th>\n",
       "      <th>TotalValue</th>\n",
       "    </tr>\n",
       "  </thead>\n",
       "  <tbody>\n",
       "    <tr>\n",
       "      <th>5995</th>\n",
       "      <td>ZOOLOGY: Do You Really Need It? This Will Help...</td>\n",
       "      <td>13</td>\n",
       "    </tr>\n",
       "    <tr>\n",
       "      <th>5996</th>\n",
       "      <td>ZOOLOGY: The Samurai Way</td>\n",
       "      <td>13</td>\n",
       "    </tr>\n",
       "    <tr>\n",
       "      <th>5997</th>\n",
       "      <td>ZOOLOGY: This Is What Professionals Do</td>\n",
       "      <td>10</td>\n",
       "    </tr>\n",
       "    <tr>\n",
       "      <th>5998</th>\n",
       "      <td>ZOOLOGY: What A Mistake!</td>\n",
       "      <td>5</td>\n",
       "    </tr>\n",
       "    <tr>\n",
       "      <th>5999</th>\n",
       "      <td>ZOOLOGY? It's Easy If You Do It Smart</td>\n",
       "      <td>14</td>\n",
       "    </tr>\n",
       "  </tbody>\n",
       "</table>\n",
       "</div>"
      ],
      "text/plain": [
       "                                                  title  TotalValue\n",
       "5995  ZOOLOGY: Do You Really Need It? This Will Help...          13\n",
       "5996                           ZOOLOGY: The Samurai Way          13\n",
       "5997             ZOOLOGY: This Is What Professionals Do          10\n",
       "5998                           ZOOLOGY: What A Mistake!           5\n",
       "5999              ZOOLOGY? It's Easy If You Do It Smart          14"
      ]
     },
     "execution_count": 9,
     "metadata": {},
     "output_type": "execute_result"
    }
   ],
   "source": [
    "combine_post_rating = data.dropna(axis = 0, subset = ['title'])\n",
    "\n",
    "post_ratingCount = (combine_post_rating.\n",
    "     groupby(by = ['title'])['NumLikes'].\n",
    "     count().\n",
    "     reset_index().\n",
    "     rename(columns = {'NumLikes': 'TotalValue'})\n",
    "     [['title', 'TotalValue']]\n",
    "    )\n",
    "post_ratingCount.tail()"
   ]
  },
  {
   "cell_type": "code",
   "execution_count": 10,
   "id": "95e0a837",
   "metadata": {},
   "outputs": [
    {
     "data": {
      "text/html": [
       "<div>\n",
       "<style scoped>\n",
       "    .dataframe tbody tr th:only-of-type {\n",
       "        vertical-align: middle;\n",
       "    }\n",
       "\n",
       "    .dataframe tbody tr th {\n",
       "        vertical-align: top;\n",
       "    }\n",
       "\n",
       "    .dataframe thead th {\n",
       "        text-align: right;\n",
       "    }\n",
       "</style>\n",
       "<table border=\"1\" class=\"dataframe\">\n",
       "  <thead>\n",
       "    <tr style=\"text-align: right;\">\n",
       "      <th></th>\n",
       "      <th>user_id</th>\n",
       "      <th>post_id</th>\n",
       "      <th>NumLikes</th>\n",
       "      <th>title</th>\n",
       "      <th>category</th>\n",
       "      <th>TotalValue</th>\n",
       "    </tr>\n",
       "  </thead>\n",
       "  <tbody>\n",
       "    <tr>\n",
       "      <th>0</th>\n",
       "      <td>5eece14ffc13ae660900008b</td>\n",
       "      <td>136781766</td>\n",
       "      <td>8</td>\n",
       "      <td>Sexy BANKING</td>\n",
       "      <td>Mystery,Educational,Cyberpunk</td>\n",
       "      <td>18</td>\n",
       "    </tr>\n",
       "    <tr>\n",
       "      <th>1</th>\n",
       "      <td>5eece14ffc13ae66090001da</td>\n",
       "      <td>136781766</td>\n",
       "      <td>5</td>\n",
       "      <td>Sexy BANKING</td>\n",
       "      <td>Mystery,Educational,Cyberpunk</td>\n",
       "      <td>18</td>\n",
       "    </tr>\n",
       "    <tr>\n",
       "      <th>2</th>\n",
       "      <td>5eece14efc13ae660900003a</td>\n",
       "      <td>136781766</td>\n",
       "      <td>9</td>\n",
       "      <td>Sexy BANKING</td>\n",
       "      <td>Mystery,Educational,Cyberpunk</td>\n",
       "      <td>18</td>\n",
       "    </tr>\n",
       "    <tr>\n",
       "      <th>3</th>\n",
       "      <td>5eece14ffc13ae6609000131</td>\n",
       "      <td>136781766</td>\n",
       "      <td>3</td>\n",
       "      <td>Sexy BANKING</td>\n",
       "      <td>Mystery,Educational,Cyberpunk</td>\n",
       "      <td>18</td>\n",
       "    </tr>\n",
       "    <tr>\n",
       "      <th>4</th>\n",
       "      <td>5eece14ffc13ae6609000167</td>\n",
       "      <td>136781766</td>\n",
       "      <td>2</td>\n",
       "      <td>Sexy BANKING</td>\n",
       "      <td>Mystery,Educational,Cyberpunk</td>\n",
       "      <td>18</td>\n",
       "    </tr>\n",
       "  </tbody>\n",
       "</table>\n",
       "</div>"
      ],
      "text/plain": [
       "                    user_id    post_id  NumLikes          title  \\\n",
       "0  5eece14ffc13ae660900008b  136781766         8   Sexy BANKING   \n",
       "1  5eece14ffc13ae66090001da  136781766         5   Sexy BANKING   \n",
       "2  5eece14efc13ae660900003a  136781766         9   Sexy BANKING   \n",
       "3  5eece14ffc13ae6609000131  136781766         3   Sexy BANKING   \n",
       "4  5eece14ffc13ae6609000167  136781766         2   Sexy BANKING   \n",
       "\n",
       "                        category  TotalValue  \n",
       "0  Mystery,Educational,Cyberpunk          18  \n",
       "1  Mystery,Educational,Cyberpunk          18  \n",
       "2  Mystery,Educational,Cyberpunk          18  \n",
       "3  Mystery,Educational,Cyberpunk          18  \n",
       "4  Mystery,Educational,Cyberpunk          18  "
      ]
     },
     "execution_count": 10,
     "metadata": {},
     "output_type": "execute_result"
    }
   ],
   "source": [
    "rating_with_TotalValue = combine_post_rating.merge(post_ratingCount, left_on = 'title', right_on = 'title', how = 'left')\n",
    "rating_with_TotalValue.head()"
   ]
  },
  {
   "cell_type": "code",
   "execution_count": 11,
   "id": "c6d63f65",
   "metadata": {},
   "outputs": [
    {
     "data": {
      "text/html": [
       "<div>\n",
       "<style scoped>\n",
       "    .dataframe tbody tr th:only-of-type {\n",
       "        vertical-align: middle;\n",
       "    }\n",
       "\n",
       "    .dataframe tbody tr th {\n",
       "        vertical-align: top;\n",
       "    }\n",
       "\n",
       "    .dataframe thead th {\n",
       "        text-align: right;\n",
       "    }\n",
       "</style>\n",
       "<table border=\"1\" class=\"dataframe\">\n",
       "  <thead>\n",
       "    <tr style=\"text-align: right;\">\n",
       "      <th></th>\n",
       "      <th>user_id</th>\n",
       "      <th>post_id</th>\n",
       "      <th>NumLikes</th>\n",
       "      <th>title</th>\n",
       "      <th>category</th>\n",
       "      <th>TotalValue</th>\n",
       "    </tr>\n",
       "  </thead>\n",
       "  <tbody>\n",
       "    <tr>\n",
       "      <th>71697</th>\n",
       "      <td>5eece14ffc13ae66090001bb</td>\n",
       "      <td>36975738</td>\n",
       "      <td>1</td>\n",
       "      <td>I Don't Want To Spend This Much Time On MUSIC...</td>\n",
       "      <td>Alternate-history,Adventure,Satire,Western</td>\n",
       "      <td>13</td>\n",
       "    </tr>\n",
       "    <tr>\n",
       "      <th>71698</th>\n",
       "      <td>5eece14ffc13ae660900012d</td>\n",
       "      <td>36975738</td>\n",
       "      <td>8</td>\n",
       "      <td>I Don't Want To Spend This Much Time On MUSIC...</td>\n",
       "      <td>Alternate-history,Adventure,Satire,Western</td>\n",
       "      <td>13</td>\n",
       "    </tr>\n",
       "    <tr>\n",
       "      <th>71699</th>\n",
       "      <td>5eece14efc13ae660900006c</td>\n",
       "      <td>36975738</td>\n",
       "      <td>1</td>\n",
       "      <td>I Don't Want To Spend This Much Time On MUSIC...</td>\n",
       "      <td>Alternate-history,Adventure,Satire,Western</td>\n",
       "      <td>13</td>\n",
       "    </tr>\n",
       "    <tr>\n",
       "      <th>71700</th>\n",
       "      <td>5eece14ffc13ae660900007e</td>\n",
       "      <td>36975738</td>\n",
       "      <td>2</td>\n",
       "      <td>I Don't Want To Spend This Much Time On MUSIC...</td>\n",
       "      <td>Alternate-history,Adventure,Satire,Western</td>\n",
       "      <td>13</td>\n",
       "    </tr>\n",
       "    <tr>\n",
       "      <th>71701</th>\n",
       "      <td>5eece14efc13ae6609000048</td>\n",
       "      <td>36975738</td>\n",
       "      <td>8</td>\n",
       "      <td>I Don't Want To Spend This Much Time On MUSIC...</td>\n",
       "      <td>Alternate-history,Adventure,Satire,Western</td>\n",
       "      <td>13</td>\n",
       "    </tr>\n",
       "  </tbody>\n",
       "</table>\n",
       "</div>"
      ],
      "text/plain": [
       "                        user_id   post_id  NumLikes  \\\n",
       "71697  5eece14ffc13ae66090001bb  36975738         1   \n",
       "71698  5eece14ffc13ae660900012d  36975738         8   \n",
       "71699  5eece14efc13ae660900006c  36975738         1   \n",
       "71700  5eece14ffc13ae660900007e  36975738         2   \n",
       "71701  5eece14efc13ae6609000048  36975738         8   \n",
       "\n",
       "                                                   title  \\\n",
       "71697   I Don't Want To Spend This Much Time On MUSIC...   \n",
       "71698   I Don't Want To Spend This Much Time On MUSIC...   \n",
       "71699   I Don't Want To Spend This Much Time On MUSIC...   \n",
       "71700   I Don't Want To Spend This Much Time On MUSIC...   \n",
       "71701   I Don't Want To Spend This Much Time On MUSIC...   \n",
       "\n",
       "                                         category  TotalValue  \n",
       "71697  Alternate-history,Adventure,Satire,Western          13  \n",
       "71698  Alternate-history,Adventure,Satire,Western          13  \n",
       "71699  Alternate-history,Adventure,Satire,Western          13  \n",
       "71700  Alternate-history,Adventure,Satire,Western          13  \n",
       "71701  Alternate-history,Adventure,Satire,Western          13  "
      ]
     },
     "metadata": {},
     "output_type": "display_data"
    },
    {
     "data": {
      "text/plain": [
       "(38292, 6)"
      ]
     },
     "metadata": {},
     "output_type": "display_data"
    }
   ],
   "source": [
    "popularity_threshold = 13\n",
    "rating_popular_post = rating_with_TotalValue.query('TotalValue >= @popularity_threshold')\n",
    "display(rating_popular_post.tail())\n",
    "display(rating_popular_post.shape)"
   ]
  },
  {
   "cell_type": "markdown",
   "id": "33941b04",
   "metadata": {},
   "source": [
    "# FEATURE EXTRACTION via NearestNeighbors - Cosine Similarity"
   ]
  },
  {
   "cell_type": "code",
   "execution_count": 12,
   "id": "fee9cd12",
   "metadata": {},
   "outputs": [
    {
     "data": {
      "text/plain": [
       "NearestNeighbors(algorithm='brute', metric='cosine')"
      ]
     },
     "execution_count": 12,
     "metadata": {},
     "output_type": "execute_result"
    }
   ],
   "source": [
    "rating_popular_post = rating_popular_post.drop_duplicates(['user_id', 'title'])\n",
    "rating_popular_post_pivot = rating_popular_post.pivot(index = 'title', columns = 'user_id', values = 'NumLikes').fillna(0)\n",
    "rating_popular_post_matrix = csr_matrix(rating_popular_post_pivot.values)\n",
    "\n",
    "model_knn = NearestNeighbors(metric = 'cosine', algorithm = 'brute')\n",
    "model_knn.fit(rating_popular_post_matrix)"
   ]
  },
  {
   "cell_type": "code",
   "execution_count": 13,
   "id": "fe65ee78",
   "metadata": {},
   "outputs": [],
   "source": [
    "cosine_sim = cosine_similarity(rating_popular_post_matrix, rating_popular_post_matrix)\n",
    "np.save(\"cosine_sim_NumLikes.npy\", cosine_sim)"
   ]
  },
  {
   "cell_type": "markdown",
   "id": "3ea41dd4",
   "metadata": {},
   "source": [
    "# Test Cosine Similarity"
   ]
  },
  {
   "cell_type": "code",
   "execution_count": 14,
   "id": "b4acb34b",
   "metadata": {},
   "outputs": [
    {
     "name": "stdout",
     "output_type": "stream",
     "text": [
      "1184\n"
     ]
    }
   ],
   "source": [
    "# Get a random index to predict on\n",
    "query_index = np.random.choice(rating_popular_post_pivot.shape[0])\n",
    "print(query_index)\n",
    "distances, indices = model_knn.kneighbors(rating_popular_post_pivot.iloc[query_index,:].values.reshape(1, -1), n_neighbors = 2)"
   ]
  },
  {
   "cell_type": "code",
   "execution_count": 15,
   "id": "292addd2",
   "metadata": {},
   "outputs": [
    {
     "data": {
      "text/plain": [
       "\" It's All About (The) MUSIC\""
      ]
     },
     "execution_count": 15,
     "metadata": {},
     "output_type": "execute_result"
    }
   ],
   "source": [
    "rating_popular_post_pivot.index[query_index]"
   ]
  },
  {
   "cell_type": "code",
   "execution_count": 16,
   "id": "0af3bfe0",
   "metadata": {},
   "outputs": [
    {
     "name": "stdout",
     "output_type": "stream",
     "text": [
      "Recommendations for  It's All About (The) MUSIC:\n",
      "\n",
      "1:  You Will Thank Us - 10 Tips About BUSINESS You Need To Know, with distance of 0.6902975081185676:\n"
     ]
    }
   ],
   "source": [
    "# Prints 5 Recommendations and their respective cosine similarity score \n",
    "for i in range(0, len(distances.flatten())):\n",
    "    if i == 0:\n",
    "        print('Recommendations for {0}:\\n'.format(rating_popular_post_pivot.index[query_index]))\n",
    "    else:\n",
    "        print('{0}: {1}, with distance of {2}:'.format(i, rating_popular_post_pivot.index[indices.flatten()[i]], distances.flatten()[i]))"
   ]
  },
  {
   "cell_type": "markdown",
   "id": "364cc48a",
   "metadata": {},
   "source": [
    "# give_recommendation_cosine function"
   ]
  },
  {
   "cell_type": "code",
   "execution_count": 238,
   "id": "acbf0119",
   "metadata": {},
   "outputs": [],
   "source": [
    "def give_recommendation_cosine(post_num):\n",
    "    length, indices = model_knn.kneighbors(rating_popular_post_pivot.iloc[query_index,:].values.reshape(1, -1), n_neighbors = 2)\n",
    "    display(rating_popular_post_pivot.index[post_num])\n",
    "    for i in range(0, len(length.flatten())):\n",
    "        if i == 0:\n",
    "            print('Recommendations for {0}:\\n'.format(rating_popular_post_pivot.index[post_num]))\n",
    "        else:\n",
    "            print('{1}'.format(i, rating_popular_post_pivot.index[indices.flatten()[i]], length.flatten()[i]))"
   ]
  },
  {
   "cell_type": "code",
   "execution_count": 239,
   "id": "0785fdbd",
   "metadata": {},
   "outputs": [
    {
     "data": {
      "text/plain": [
       "' 13 Myths About ZOOLOGY'"
      ]
     },
     "metadata": {},
     "output_type": "display_data"
    },
    {
     "name": "stdout",
     "output_type": "stream",
     "text": [
      "Recommendations for  13 Myths About ZOOLOGY:\n",
      "\n",
      " The Ultimate Guide To POLITICS\n"
     ]
    }
   ],
   "source": [
    "give_recommendation_cosine(100)"
   ]
  },
  {
   "cell_type": "markdown",
   "id": "8f4a5c84",
   "metadata": {},
   "source": [
    "# FEATURE EXTRACTION via tfidf vectorizer\n",
    "### Create a data-term matrix (vocabulary)"
   ]
  },
  {
   "cell_type": "code",
   "execution_count": 17,
   "id": "65ee815a",
   "metadata": {},
   "outputs": [],
   "source": [
    "# Instantiate vecorizer object - call tokenize\n",
    "tf_model = TfidfVectorizer(max_features=200,max_df=0.25,min_df=0.01,stop_words='english')"
   ]
  },
  {
   "cell_type": "code",
   "execution_count": 18,
   "id": "da8d2c15",
   "metadata": {},
   "outputs": [],
   "source": [
    "# create corpus (categories) used for the TF-IDF\n",
    "corpus = data_tfdif['category']"
   ]
  },
  {
   "cell_type": "code",
   "execution_count": 19,
   "id": "7468014d",
   "metadata": {},
   "outputs": [
    {
     "name": "stdout",
     "output_type": "stream",
     "text": [
      "The shape of the matrix is: (6000, 24)\n"
     ]
    },
    {
     "data": {
      "text/html": [
       "<div>\n",
       "<style scoped>\n",
       "    .dataframe tbody tr th:only-of-type {\n",
       "        vertical-align: middle;\n",
       "    }\n",
       "\n",
       "    .dataframe tbody tr th {\n",
       "        vertical-align: top;\n",
       "    }\n",
       "\n",
       "    .dataframe thead th {\n",
       "        text-align: right;\n",
       "    }\n",
       "</style>\n",
       "<table border=\"1\" class=\"dataframe\">\n",
       "  <thead>\n",
       "    <tr style=\"text-align: right;\">\n",
       "      <th></th>\n",
       "      <th>action</th>\n",
       "      <th>adult</th>\n",
       "      <th>alternate</th>\n",
       "      <th>cyberpunk</th>\n",
       "      <th>drama</th>\n",
       "      <th>educational</th>\n",
       "      <th>fantasy</th>\n",
       "      <th>fi</th>\n",
       "      <th>fiction</th>\n",
       "      <th>historical</th>\n",
       "      <th>...</th>\n",
       "      <th>magical</th>\n",
       "      <th>mystery</th>\n",
       "      <th>realism</th>\n",
       "      <th>realistic</th>\n",
       "      <th>romance</th>\n",
       "      <th>satire</th>\n",
       "      <th>sci</th>\n",
       "      <th>steamy</th>\n",
       "      <th>western</th>\n",
       "      <th>young</th>\n",
       "    </tr>\n",
       "  </thead>\n",
       "  <tbody>\n",
       "    <tr>\n",
       "      <th>0</th>\n",
       "      <td>0.0</td>\n",
       "      <td>0.000000</td>\n",
       "      <td>0.000000</td>\n",
       "      <td>0.617478</td>\n",
       "      <td>0.0</td>\n",
       "      <td>0.556202</td>\n",
       "      <td>0.000000</td>\n",
       "      <td>0.000000</td>\n",
       "      <td>0.0</td>\n",
       "      <td>0.0</td>\n",
       "      <td>...</td>\n",
       "      <td>0.000000</td>\n",
       "      <td>0.556202</td>\n",
       "      <td>0.000000</td>\n",
       "      <td>0.0</td>\n",
       "      <td>0.000000</td>\n",
       "      <td>0.0</td>\n",
       "      <td>0.000000</td>\n",
       "      <td>0.000000</td>\n",
       "      <td>0.000000</td>\n",
       "      <td>0.000000</td>\n",
       "    </tr>\n",
       "    <tr>\n",
       "      <th>1</th>\n",
       "      <td>0.0</td>\n",
       "      <td>0.000000</td>\n",
       "      <td>0.000000</td>\n",
       "      <td>0.000000</td>\n",
       "      <td>0.0</td>\n",
       "      <td>0.000000</td>\n",
       "      <td>0.466914</td>\n",
       "      <td>0.000000</td>\n",
       "      <td>0.0</td>\n",
       "      <td>0.0</td>\n",
       "      <td>...</td>\n",
       "      <td>0.510552</td>\n",
       "      <td>0.000000</td>\n",
       "      <td>0.510552</td>\n",
       "      <td>0.0</td>\n",
       "      <td>0.000000</td>\n",
       "      <td>0.0</td>\n",
       "      <td>0.000000</td>\n",
       "      <td>0.000000</td>\n",
       "      <td>0.510552</td>\n",
       "      <td>0.000000</td>\n",
       "    </tr>\n",
       "    <tr>\n",
       "      <th>2</th>\n",
       "      <td>0.0</td>\n",
       "      <td>0.000000</td>\n",
       "      <td>0.447214</td>\n",
       "      <td>0.000000</td>\n",
       "      <td>0.0</td>\n",
       "      <td>0.000000</td>\n",
       "      <td>0.000000</td>\n",
       "      <td>0.447214</td>\n",
       "      <td>0.0</td>\n",
       "      <td>0.0</td>\n",
       "      <td>...</td>\n",
       "      <td>0.000000</td>\n",
       "      <td>0.000000</td>\n",
       "      <td>0.000000</td>\n",
       "      <td>0.0</td>\n",
       "      <td>0.000000</td>\n",
       "      <td>0.0</td>\n",
       "      <td>0.447214</td>\n",
       "      <td>0.447214</td>\n",
       "      <td>0.000000</td>\n",
       "      <td>0.000000</td>\n",
       "    </tr>\n",
       "    <tr>\n",
       "      <th>3</th>\n",
       "      <td>0.0</td>\n",
       "      <td>0.495753</td>\n",
       "      <td>0.000000</td>\n",
       "      <td>0.000000</td>\n",
       "      <td>0.0</td>\n",
       "      <td>0.000000</td>\n",
       "      <td>0.453380</td>\n",
       "      <td>0.000000</td>\n",
       "      <td>0.0</td>\n",
       "      <td>0.0</td>\n",
       "      <td>...</td>\n",
       "      <td>0.000000</td>\n",
       "      <td>0.000000</td>\n",
       "      <td>0.000000</td>\n",
       "      <td>0.0</td>\n",
       "      <td>0.550369</td>\n",
       "      <td>0.0</td>\n",
       "      <td>0.000000</td>\n",
       "      <td>0.000000</td>\n",
       "      <td>0.000000</td>\n",
       "      <td>0.495753</td>\n",
       "    </tr>\n",
       "    <tr>\n",
       "      <th>4</th>\n",
       "      <td>0.0</td>\n",
       "      <td>0.000000</td>\n",
       "      <td>0.000000</td>\n",
       "      <td>0.000000</td>\n",
       "      <td>0.0</td>\n",
       "      <td>0.000000</td>\n",
       "      <td>0.000000</td>\n",
       "      <td>0.000000</td>\n",
       "      <td>0.0</td>\n",
       "      <td>0.0</td>\n",
       "      <td>...</td>\n",
       "      <td>0.000000</td>\n",
       "      <td>0.495753</td>\n",
       "      <td>0.000000</td>\n",
       "      <td>0.0</td>\n",
       "      <td>0.000000</td>\n",
       "      <td>0.0</td>\n",
       "      <td>0.000000</td>\n",
       "      <td>0.000000</td>\n",
       "      <td>0.495753</td>\n",
       "      <td>0.000000</td>\n",
       "    </tr>\n",
       "  </tbody>\n",
       "</table>\n",
       "<p>5 rows × 24 columns</p>\n",
       "</div>"
      ],
      "text/plain": [
       "   action     adult  alternate  cyberpunk  drama  educational   fantasy  \\\n",
       "0     0.0  0.000000   0.000000   0.617478    0.0     0.556202  0.000000   \n",
       "1     0.0  0.000000   0.000000   0.000000    0.0     0.000000  0.466914   \n",
       "2     0.0  0.000000   0.447214   0.000000    0.0     0.000000  0.000000   \n",
       "3     0.0  0.495753   0.000000   0.000000    0.0     0.000000  0.453380   \n",
       "4     0.0  0.000000   0.000000   0.000000    0.0     0.000000  0.000000   \n",
       "\n",
       "         fi  fiction  historical  ...   magical   mystery   realism  \\\n",
       "0  0.000000      0.0         0.0  ...  0.000000  0.556202  0.000000   \n",
       "1  0.000000      0.0         0.0  ...  0.510552  0.000000  0.510552   \n",
       "2  0.447214      0.0         0.0  ...  0.000000  0.000000  0.000000   \n",
       "3  0.000000      0.0         0.0  ...  0.000000  0.000000  0.000000   \n",
       "4  0.000000      0.0         0.0  ...  0.000000  0.495753  0.000000   \n",
       "\n",
       "   realistic   romance  satire       sci    steamy   western     young  \n",
       "0        0.0  0.000000     0.0  0.000000  0.000000  0.000000  0.000000  \n",
       "1        0.0  0.000000     0.0  0.000000  0.000000  0.510552  0.000000  \n",
       "2        0.0  0.000000     0.0  0.447214  0.447214  0.000000  0.000000  \n",
       "3        0.0  0.550369     0.0  0.000000  0.000000  0.000000  0.495753  \n",
       "4        0.0  0.000000     0.0  0.000000  0.000000  0.495753  0.000000  \n",
       "\n",
       "[5 rows x 24 columns]"
      ]
     },
     "metadata": {},
     "output_type": "display_data"
    }
   ],
   "source": [
    "tf_matrix = tf_model.fit_transform(corpus).todense()\n",
    "print('The shape of the matrix is:', tf_matrix.shape)\n",
    "tf_df = pd.DataFrame(tf_matrix)\n",
    "tf_df.columns = sorted(tf_model.vocabulary_)\n",
    "display(tf_df.head())"
   ]
  },
  {
   "cell_type": "code",
   "execution_count": 20,
   "id": "aa559154",
   "metadata": {},
   "outputs": [],
   "source": [
    "# Get cosine similarity of the matrix\n",
    "cosine_sim = cosine_similarity(tf_matrix, tf_matrix)"
   ]
  },
  {
   "cell_type": "code",
   "execution_count": 21,
   "id": "1c44fe3d",
   "metadata": {},
   "outputs": [
    {
     "data": {
      "text/plain": [
       "NearestNeighbors(algorithm='ball_tree')"
      ]
     },
     "execution_count": 21,
     "metadata": {},
     "output_type": "execute_result"
    }
   ],
   "source": [
    "# Fit on TF-IDF Vectors\n",
    "nn = NearestNeighbors(n_neighbors=5, algorithm='ball_tree')\n",
    "nn.fit(tf_matrix)"
   ]
  },
  {
   "cell_type": "code",
   "execution_count": 22,
   "id": "09737e91",
   "metadata": {},
   "outputs": [],
   "source": [
    "# Construct a reverse mapping of indices and post titles, and drop duplicate titles if any\n",
    "indices = pd.Series(df.index, index=df['title']).drop_duplicates()"
   ]
  },
  {
   "cell_type": "code",
   "execution_count": 23,
   "id": "4432994a",
   "metadata": {},
   "outputs": [
    {
     "name": "stdout",
     "output_type": "stream",
     "text": [
      "<class 'pandas.core.series.Series'>\n",
      "<class 'numpy.ndarray'>\n"
     ]
    }
   ],
   "source": [
    "print(type(indices))\n",
    "print(type(cosine_sim))"
   ]
  },
  {
   "cell_type": "code",
   "execution_count": 24,
   "id": "6e6d60e4",
   "metadata": {},
   "outputs": [],
   "source": [
    "# Pickle the dtm and tf for use in the prediction\n",
    "pickle.dump(tf_matrix, open('tf_matrix.pkl', 'wb'))\n",
    "pickle.dump(tf_model, open('tf_model.pkl', 'wb'))\n",
    "indices.to_pickle('indices.pkl')\n",
    "np.save(\"cosine_sim.npy\", cosine_sim)"
   ]
  },
  {
   "cell_type": "markdown",
   "id": "6293ac1a",
   "metadata": {},
   "source": [
    "# Test TF-IDF"
   ]
  },
  {
   "cell_type": "code",
   "execution_count": 37,
   "id": "58cebb15",
   "metadata": {},
   "outputs": [],
   "source": [
    "# Create the test case\n",
    "ideal_category = ['Mystery,Adventure,Sci-Fi,Fantasy']\n",
    "\n",
    "new = tf_model.transform(ideal_category)\n",
    "results = nn.kneighbors(new.todense())"
   ]
  },
  {
   "cell_type": "code",
   "execution_count": 38,
   "id": "5e18320b",
   "metadata": {},
   "outputs": [
    {
     "data": {
      "text/plain": [
       "(array([[0.68189049, 0.68189049, 0.68189049, 0.68189049, 0.68189049]]),\n",
       " array([[170,  67, 172, 448,  21]], dtype=int64))"
      ]
     },
     "execution_count": 38,
     "metadata": {},
     "output_type": "execute_result"
    }
   ],
   "source": [
    "# displays the cosine similarity on the top array and the index value on the bottom array\n",
    "results"
   ]
  },
  {
   "cell_type": "code",
   "execution_count": 39,
   "id": "10e9448e",
   "metadata": {},
   "outputs": [
    {
     "data": {
      "text/plain": [
       "' Here Is What You Should Do For Your PHOTOGRAPHY'"
      ]
     },
     "execution_count": 39,
     "metadata": {},
     "output_type": "execute_result"
    }
   ],
   "source": [
    "# displays the title of the first value of the first array\n",
    "df['title'][results[1][0][0]]"
   ]
  },
  {
   "cell_type": "code",
   "execution_count": 40,
   "id": "8223c296",
   "metadata": {},
   "outputs": [
    {
     "data": {
      "text/plain": [
       "'Magical realism,Adventure,Fantasy,Action'"
      ]
     },
     "execution_count": 40,
     "metadata": {},
     "output_type": "execute_result"
    }
   ],
   "source": [
    "# displays the category of the first value of the first array \n",
    "df['category'][results[1][0][0]]"
   ]
  },
  {
   "cell_type": "markdown",
   "id": "0e69d42d",
   "metadata": {},
   "source": [
    "# give_recommendation_TF function"
   ]
  },
  {
   "cell_type": "code",
   "execution_count": 167,
   "id": "4578444d",
   "metadata": {},
   "outputs": [],
   "source": [
    "def give_recommended_TF(ideal_categories):\n",
    "    new = tf_model.transform(ideal_category)\n",
    "    results = nn.kneighbors(new.todense())\n",
    "    display(df['title'][results[1][0][0]])"
   ]
  },
  {
   "cell_type": "code",
   "execution_count": 168,
   "id": "50dc7bcb",
   "metadata": {},
   "outputs": [
    {
     "data": {
      "text/plain": [
       "' 4 Ways You Can Grow Your Creativity Using MATHEMATICS'"
      ]
     },
     "metadata": {},
     "output_type": "display_data"
    }
   ],
   "source": [
    "give_recommended_TF('Mystery,Adventure,Sci-Fi')"
   ]
  },
  {
   "cell_type": "code",
   "execution_count": null,
   "id": "c6addf18",
   "metadata": {},
   "outputs": [],
   "source": []
  }
 ],
 "metadata": {
  "kernelspec": {
   "display_name": "Python 3",
   "language": "python",
   "name": "python3"
  },
  "language_info": {
   "codemirror_mode": {
    "name": "ipython",
    "version": 3
   },
   "file_extension": ".py",
   "mimetype": "text/x-python",
   "name": "python",
   "nbconvert_exporter": "python",
   "pygments_lexer": "ipython3",
   "version": "3.8.8"
  }
 },
 "nbformat": 4,
 "nbformat_minor": 5
}
